{
 "cells": [
  {
   "cell_type": "code",
<<<<<<< HEAD
   "execution_count": 1,
   "metadata": {},
   "outputs": [
    {
     "name": "stdout",
     "output_type": "stream",
     "text": [
      "Processing subtitle 1: A girl sits on a bed with a laptop, rain hits a window. Soft music plays in the background.\n"
     ]
    },
    {
     "name": "stderr",
     "output_type": "stream",
     "text": [
      "C:\\Users\\compu\\AppData\\Local\\Temp\\ipykernel_31824\\4146906734.py:32: DeprecationWarning: Due to a bug, this method doesn't actually stream the response content, `.with_streaming_response.method()` should be used instead\n",
      "  response.stream_to_file(output_filename)\n"
     ]
    },
    {
     "name": "stdout",
     "output_type": "stream",
     "text": [
      "Subtitle block 1 saved as subAudio\\subtitle_block_1.mp3\n",
      "Processing subtitle 2: The girl glances towards the window, surprised by the sudden thunder. Rain pours heavily outside.\n",
      "Subtitle block 2 saved as subAudio\\subtitle_block_2.mp3\n",
      "Processing subtitle 3: She stands up, with a slight frown, and begins to walk towards the window, her teddy bear in her arms.\n",
      "Subtitle block 3 saved as subAudio\\subtitle_block_3.mp3\n",
      "Processing subtitle 4: The girl picks up a bright yellow raincoat, joyfully putting it on while she prepares to go outside.\n",
      "Subtitle block 4 saved as subAudio\\subtitle_block_4.mp3\n",
      "Processing subtitle 5: She stands at the door, stepping outside into the pouring rain, smiling brightly.\n",
      "Subtitle block 5 saved as subAudio\\subtitle_block_5.mp3\n"
     ]
    }
   ],
   "source": [
    "import os\n",
    "import re\n",
    "from openai import OpenAI\n",
    "from moviepy.editor import VideoFileClip, AudioFileClip, concatenate_videoclips\n",
    "from moviepy.video.fx.all import speedx\n",
    "\n",
    "# Initialize OpenAI client\n",
    "client = OpenAI()\n",
    "\n",
    "def process_srt_file(srt_file_path):\n",
    "    \"\"\"Process the SRT file and create audio files from the subtitles.\"\"\"\n",
    "    with open(srt_file_path, \"r\") as srt_file:\n",
    "        srt_content = srt_file.read()\n",
    "\n",
    "    subtitle_pattern = re.compile(r\"(\\d+)\\n(\\d{2}:\\d{2}:\\d{2},\\d{3} --> \\d{2}:\\d{2}:\\d{2},\\d{3})\\n(.+?)\\n\\n\", re.DOTALL)\n",
    "    subtitles = subtitle_pattern.findall(srt_content)\n",
    "\n",
    "    output_folder = \"subAudio\"\n",
    "    os.makedirs(output_folder, exist_ok=True)\n",
    "\n",
    "    # Clear output folder\n",
    "    for file_name in os.listdir(output_folder):\n",
    "        os.remove(os.path.join(output_folder, file_name))\n",
    "\n",
    "    for idx, subtitle_block in enumerate(subtitles, start=1):\n",
    "        subtitle_text = subtitle_block[2].strip()\n",
    "        print(f\"Processing subtitle {idx}: {subtitle_text}\")\n",
    "        response = client.audio.speech.create(model=\"tts-1\", voice=\"alloy\", input=subtitle_text)\n",
=======
   "execution_count": null,
   "metadata": {},
   "outputs": [],
   "source": [
    "# creat audio mp3 with srt time stamp\n",
    "import re\n",
    "import os\n",
    "from openai import OpenAI\n",
    "\n",
    "client = OpenAI()\n",
    "\n",
    "def process_srt_file(srt_file_path):\n",
    "    with open(srt_file_path, \"r\") as srt_file:\n",
    "        srt_content = srt_file.read()\n",
    "\n",
    "    # Define the pattern to match each subtitle block in the SRT format\n",
    "    subtitle_pattern = re.compile(r\"(\\d+)\\n(\\d{2}:\\d{2}:\\d{2},\\d{3} --> \\d{2}:\\d{2}:\\d{2},\\d{3})\\n(.+?)\\n\\n\", re.DOTALL)\n",
    "\n",
    "    # Find all subtitle blocks\n",
    "    subtitles = subtitle_pattern.findall(srt_content)\n",
    "    output_folder = \"subAudio\"\n",
    "    os.makedirs(output_folder, exist_ok=True)\n",
    "\n",
    "    for idx, subtitle_block in enumerate(subtitles, start=1):\n",
    "        subtitle_text = subtitle_block[2].strip()\n",
    "        print(f\"Processing subtitle {idx}: {subtitle_text}\")\n",
    "        response = client.audio.speech.create(\n",
    "            model=\"tts-1\",\n",
    "            voice=\"alloy\",\n",
    "            input=subtitle_text\n",
    "        )\n",
>>>>>>> e0455ff0e6a76ed1461dbd19fc0af81164c97e4f
    "        output_filename = os.path.join(output_folder, f\"subtitle_block_{idx}.mp3\")\n",
    "        response.stream_to_file(output_filename)\n",
    "        print(f\"Subtitle block {idx} saved as {output_filename}\")\n",
    "\n",
<<<<<<< HEAD
=======
    "srt_file_path = \"output_subtitles.srt\"\n",
    "process_srt_file(srt_file_path)\n"
   ]
  },
  {
   "cell_type": "code",
   "execution_count": null,
   "metadata": {},
   "outputs": [],
   "source": [
    "#this code cuts the video into small clips based on the timestamp from srt\n",
    "\n",
    "import re\n",
    "import os\n",
    "from moviepy.video.io.VideoFileClip import VideoFileClip\n",
    "\n",
>>>>>>> e0455ff0e6a76ed1461dbd19fc0af81164c97e4f
    "def parse_srt_file(srt_file_path):\n",
    "    \"\"\"Parse the timecodes and texts from the SRT file.\"\"\"\n",
    "    with open(srt_file_path, \"r\") as srt_file:\n",
    "        srt_content = srt_file.read()\n",
    "\n",
<<<<<<< HEAD
    "    subtitle_pattern = re.compile(r\"(\\d+)\\n(\\d{2}:\\d{2}:\\d{2},\\d{3}) --> (\\d{2}:\\d{2}:\\d{2},\\d{3})\\n(.+?)\\n\\n\", re.DOTALL)\n",
    "    return subtitle_pattern.findall(srt_content)\n",
=======
    "    # Regex to extract block number, timecodes, and subtitle text\n",
    "    subtitle_pattern = re.compile(\n",
    "        r\"(\\d+)\\n(\\d{2}:\\d{2}:\\d{2},\\d{3}) --> (\\d{2}:\\d{2}:\\d{2},\\d{3})\\n(.+?)\\n\\n\", re.DOTALL\n",
    "    )\n",
    "\n",
    "    subtitles = subtitle_pattern.findall(srt_content)\n",
    "    return subtitles\n",
>>>>>>> e0455ff0e6a76ed1461dbd19fc0af81164c97e4f
    "\n",
    "def convert_timecode_to_seconds(timecode):\n",
    "    \"\"\"Convert SRT timecode format (HH:MM:SS,ms) to seconds.\"\"\"\n",
    "    hours, minutes, seconds = timecode.split(\":\")\n",
    "    seconds, milliseconds = seconds.split(\",\")\n",
    "    return int(hours) * 3600 + int(minutes) * 60 + int(seconds) + int(milliseconds) / 1000\n",
    "\n",
    "def cut_video_with_moviepy(video_file_path, srt_file_path):\n",
    "    \"\"\"Cut the video into parts based on the SRT timecodes using moviepy.\"\"\"\n",
    "    subtitles = parse_srt_file(srt_file_path)\n",
    "    output_folder = \"video_clips\"\n",
    "    os.makedirs(output_folder, exist_ok=True)\n",
    "\n",
<<<<<<< HEAD
    "    # Clear output folder\n",
    "    for file_name in os.listdir(output_folder):\n",
    "        os.remove(os.path.join(output_folder, file_name))\n",
    "\n",
    "    video = VideoFileClip(video_file_path)\n",
    "\n",
    "    for idx, (_, start_time, end_time, _) in enumerate(subtitles, start=1):\n",
=======
    "    video = VideoFileClip(video_file_path)\n",
    "\n",
    "    for idx, (block_number, start_time, end_time, text) in enumerate(subtitles, start=1):\n",
    "        # Convert timecodes to seconds\n",
>>>>>>> e0455ff0e6a76ed1461dbd19fc0af81164c97e4f
    "        start_seconds = convert_timecode_to_seconds(start_time)\n",
    "        end_seconds = convert_timecode_to_seconds(end_time)\n",
    "\n",
    "        video_clip = video.subclip(start_seconds, end_seconds)\n",
<<<<<<< HEAD
    "        output_filename = os.path.join(output_folder, f\"video_clip_{idx}.mp4\")\n",
    "\n",
    "        video_clip.write_videofile(output_filename, codec=\"libx264\", logger=None)\n",
    "        print(f\"Clip {idx} saved: {output_filename}\")\n",
    "\n",
    "def sync_audio_video():\n",
    "    \"\"\"Sync audio and video by adjusting video speed.\"\"\"\n",
    "    video_dir, audio_dir, output_dir = 'video_clips', 'subAudio', 'truncated_videos'\n",
    "    os.makedirs(output_dir, exist_ok=True)\n",
    "\n",
    "    # Clear output folder\n",
    "    for file_name in os.listdir(output_dir):\n",
    "        os.remove(os.path.join(output_dir, file_name))\n",
    "\n",
    "    video_files = sorted([f for f in os.listdir(video_dir) if f.endswith('.mp4')])\n",
    "    audio_files = sorted([f for f in os.listdir(audio_dir) if f.endswith('.mp3')])\n",
    "\n",
    "    for video_file, audio_file in zip(video_files, audio_files):\n",
    "        video_path = os.path.join(video_dir, video_file)\n",
    "        audio_path = os.path.join(audio_dir, audio_file)\n",
    "\n",
    "        video_clip = VideoFileClip(video_path)\n",
    "        audio_clip = AudioFileClip(audio_path)\n",
    "\n",
    "        speed_factor = video_clip.duration / audio_clip.duration\n",
    "        adjusted_video = speedx(video_clip, factor=speed_factor)\n",
    "\n",
    "        final_clip = adjusted_video.set_audio(audio_clip)\n",
    "        output_path = os.path.join(output_dir, f'truncated_{video_file}')\n",
    "\n",
    "        final_clip.write_videofile(output_path, codec='libx264', audio_codec='aac', logger=None)\n",
    "\n",
    "def combine_audio_video():\n",
    "    \"\"\"Combine individual audio and video clips into a final video.\"\"\"\n",
    "    audio_folder, video_folder, output_folder = 'subAudio', 'truncated_videos', 'output_clips'\n",
    "    os.makedirs(output_folder, exist_ok=True)\n",
    "\n",
    "    # Clear output folder\n",
    "    for file_name in os.listdir(output_folder):\n",
    "        os.remove(os.path.join(output_folder, file_name))\n",
    "\n",
    "    audio_files = sorted([f for f in os.listdir(audio_folder) if f.endswith('.mp3')])\n",
    "    video_files = sorted([f for f in os.listdir(video_folder) if f.endswith('.mp4')])\n",
    "\n",
    "    for audio_file, video_file in zip(audio_files, video_files):\n",
    "        audio_path = os.path.join(audio_folder, audio_file)\n",
    "        video_path = os.path.join(video_folder, video_file)\n",
    "        output_path = os.path.join(output_folder, f'combined_{video_file}')\n",
    "\n",
    "        video_with_audio = VideoFileClip(video_path).set_audio(AudioFileClip(audio_path))\n",
    "        video_with_audio.write_videofile(output_path, codec='libx264', logger=None)\n",
    "        print(f'Combined {audio_file} with {video_file} into {output_path}')\n",
    "\n",
    "def merge_all_clips():\n",
    "    \"\"\"Merge all video clips into one final video.\"\"\"\n",
    "    folder_path = 'output_clips'\n",
    "    file_list = sorted([f for f in os.listdir(folder_path) if f.endswith('.mp4')], key=lambda f: int(re.search(r'(\\d+)', f).group(0)))\n",
    "\n",
    "    clips = [VideoFileClip(os.path.join(folder_path, filename)) for filename in file_list]\n",
    "    final_clip = concatenate_videoclips(clips, method=\"compose\")\n",
    "    final_clip.write_videofile('output_combined.mp4', codec='libx264', logger=None)\n",
    "\n",
    "# Execute the functions in the desired sequence\n",
    "srt_file_path = \"./descriptive_ai/output_subtitles.srt\"\n",
    "video_file_path = \"./descriptive_ai/videos/input.mp4\"\n",
    "\n",
    "process_srt_file(srt_file_path)\n"
   ]
  },
  {
   "cell_type": "code",
   "execution_count": 2,
   "metadata": {},
   "outputs": [
    {
     "name": "stdout",
     "output_type": "stream",
     "text": [
      "Moviepy - Building video video_clips\\video_clip_1.mp4.\n",
      "MoviePy - Writing audio in video_clip_1TEMP_MPY_wvf_snd.mp3\n"
     ]
    },
    {
     "name": "stderr",
     "output_type": "stream",
     "text": [
      "                                                        \r"
     ]
    },
    {
     "name": "stdout",
     "output_type": "stream",
     "text": [
      "MoviePy - Done.\n",
      "Moviepy - Writing video video_clips\\video_clip_1.mp4\n",
      "\n"
     ]
    },
    {
     "name": "stderr",
     "output_type": "stream",
     "text": [
      "                                                               \r"
     ]
    },
    {
     "name": "stdout",
     "output_type": "stream",
     "text": [
      "Moviepy - Done !\n",
      "Moviepy - video ready video_clips\\video_clip_1.mp4\n",
      "Clip 1 saved: video_clips\\video_clip_1.mp4\n",
      "Moviepy - Building video video_clips\\video_clip_2.mp4.\n",
      "MoviePy - Writing audio in video_clip_2TEMP_MPY_wvf_snd.mp3\n"
     ]
    },
    {
     "name": "stderr",
     "output_type": "stream",
     "text": [
      "                                                        \r"
     ]
    },
    {
     "name": "stdout",
     "output_type": "stream",
     "text": [
      "MoviePy - Done.\n",
      "Moviepy - Writing video video_clips\\video_clip_2.mp4\n",
      "\n"
     ]
    },
    {
     "name": "stderr",
     "output_type": "stream",
     "text": [
      "                                                               \r"
     ]
    },
    {
     "name": "stdout",
     "output_type": "stream",
     "text": [
      "Moviepy - Done !\n",
      "Moviepy - video ready video_clips\\video_clip_2.mp4\n",
      "Clip 2 saved: video_clips\\video_clip_2.mp4\n",
      "Moviepy - Building video video_clips\\video_clip_3.mp4.\n",
      "MoviePy - Writing audio in video_clip_3TEMP_MPY_wvf_snd.mp3\n"
     ]
    },
    {
     "name": "stderr",
     "output_type": "stream",
     "text": [
      "                                                       \r"
     ]
    },
    {
     "name": "stdout",
     "output_type": "stream",
     "text": [
      "MoviePy - Done.\n",
      "Moviepy - Writing video video_clips\\video_clip_3.mp4\n",
      "\n"
     ]
    },
    {
     "name": "stderr",
     "output_type": "stream",
     "text": [
      "                                                               \r"
     ]
    },
    {
     "name": "stdout",
     "output_type": "stream",
     "text": [
      "Moviepy - Done !\n",
      "Moviepy - video ready video_clips\\video_clip_3.mp4\n",
      "Clip 3 saved: video_clips\\video_clip_3.mp4\n",
      "Moviepy - Building video video_clips\\video_clip_4.mp4.\n",
      "MoviePy - Writing audio in video_clip_4TEMP_MPY_wvf_snd.mp3\n"
     ]
    },
    {
     "name": "stderr",
     "output_type": "stream",
     "text": [
      "                                                        \r"
     ]
    },
    {
     "name": "stdout",
     "output_type": "stream",
     "text": [
      "MoviePy - Done.\n",
      "Moviepy - Writing video video_clips\\video_clip_4.mp4\n",
      "\n"
     ]
    },
    {
     "name": "stderr",
     "output_type": "stream",
     "text": [
      "                                                               \r"
     ]
    },
    {
     "name": "stdout",
     "output_type": "stream",
     "text": [
      "Moviepy - Done !\n",
      "Moviepy - video ready video_clips\\video_clip_4.mp4\n",
      "Clip 4 saved: video_clips\\video_clip_4.mp4\n",
      "Moviepy - Building video video_clips\\video_clip_5.mp4.\n",
      "MoviePy - Writing audio in video_clip_5TEMP_MPY_wvf_snd.mp3\n"
     ]
    },
    {
     "name": "stderr",
     "output_type": "stream",
     "text": [
      "                                                       \r"
     ]
    },
    {
     "name": "stdout",
     "output_type": "stream",
     "text": [
      "MoviePy - Done.\n",
      "Moviepy - Writing video video_clips\\video_clip_5.mp4\n",
      "\n"
     ]
    },
    {
     "name": "stderr",
     "output_type": "stream",
     "text": [
      "                                                               \r"
     ]
    },
    {
     "name": "stdout",
     "output_type": "stream",
     "text": [
      "Moviepy - Done !\n",
      "Moviepy - video ready video_clips\\video_clip_5.mp4\n",
      "Clip 5 saved: video_clips\\video_clip_5.mp4\n"
     ]
    }
   ],
   "source": [
=======
    "\n",
    "        output_filename = os.path.join(output_folder, f\"video_clip_{idx}.mp4\")\n",
    "\n",
    "        video_clip.write_videofile(output_filename, codec=\"libx264\")\n",
    "\n",
    "        print(f\"Clip {idx} saved: {output_filename}\")\n",
    "\n",
    "video_file_path = \"./videos/input.mp4\"\n",
    "srt_file_path = \"output_subtitles.srt\" \n",
    "\n",
    "# Cut the video based on SRT timecodes\n",
>>>>>>> e0455ff0e6a76ed1461dbd19fc0af81164c97e4f
    "cut_video_with_moviepy(video_file_path, srt_file_path)\n"
   ]
  },
  {
   "cell_type": "code",
<<<<<<< HEAD
   "execution_count": 3,
   "metadata": {},
   "outputs": [
    {
     "name": "stdout",
     "output_type": "stream",
     "text": [
      "Moviepy - Building video truncated_videos\\truncated_video_clip_1.mp4.\n",
      "MoviePy - Writing audio in truncated_video_clip_1TEMP_MPY_wvf_snd.mp4\n"
     ]
    },
    {
     "name": "stderr",
     "output_type": "stream",
     "text": [
      "                                                                    \r"
     ]
    },
    {
     "name": "stdout",
     "output_type": "stream",
     "text": [
      "MoviePy - Done.\n",
      "Moviepy - Writing video truncated_videos\\truncated_video_clip_1.mp4\n",
      "\n"
     ]
    },
    {
     "name": "stderr",
     "output_type": "stream",
     "text": [
      "                                                               \r"
     ]
    },
    {
     "name": "stdout",
     "output_type": "stream",
     "text": [
      "Moviepy - Done !\n",
      "Moviepy - video ready truncated_videos\\truncated_video_clip_1.mp4\n",
      "Moviepy - Building video truncated_videos\\truncated_video_clip_2.mp4.\n",
      "MoviePy - Writing audio in truncated_video_clip_2TEMP_MPY_wvf_snd.mp4\n"
     ]
    },
    {
     "name": "stderr",
     "output_type": "stream",
     "text": [
      "                                                                    \r"
     ]
    },
    {
     "name": "stdout",
     "output_type": "stream",
     "text": [
      "MoviePy - Done.\n",
      "Moviepy - Writing video truncated_videos\\truncated_video_clip_2.mp4\n",
      "\n"
     ]
    },
    {
     "name": "stderr",
     "output_type": "stream",
     "text": [
      "                                                               \r"
     ]
    },
    {
     "name": "stdout",
     "output_type": "stream",
     "text": [
      "Moviepy - Done !\n",
      "Moviepy - video ready truncated_videos\\truncated_video_clip_2.mp4\n",
      "Moviepy - Building video truncated_videos\\truncated_video_clip_3.mp4.\n",
      "MoviePy - Writing audio in truncated_video_clip_3TEMP_MPY_wvf_snd.mp4\n"
     ]
    },
    {
     "name": "stderr",
     "output_type": "stream",
     "text": [
      "                                                                    \r"
     ]
    },
    {
     "name": "stdout",
     "output_type": "stream",
     "text": [
      "MoviePy - Done.\n",
      "Moviepy - Writing video truncated_videos\\truncated_video_clip_3.mp4\n",
      "\n"
     ]
    },
    {
     "name": "stderr",
     "output_type": "stream",
     "text": [
      "                                                               \r"
     ]
    },
    {
     "name": "stdout",
     "output_type": "stream",
     "text": [
      "Moviepy - Done !\n",
      "Moviepy - video ready truncated_videos\\truncated_video_clip_3.mp4\n",
      "Moviepy - Building video truncated_videos\\truncated_video_clip_4.mp4.\n",
      "MoviePy - Writing audio in truncated_video_clip_4TEMP_MPY_wvf_snd.mp4\n"
     ]
    },
    {
     "name": "stderr",
     "output_type": "stream",
     "text": [
      "                                                                    \r"
     ]
    },
    {
     "name": "stdout",
     "output_type": "stream",
     "text": [
      "MoviePy - Done.\n",
      "Moviepy - Writing video truncated_videos\\truncated_video_clip_4.mp4\n",
      "\n"
     ]
    },
    {
     "name": "stderr",
     "output_type": "stream",
     "text": [
      "                                                               \r"
     ]
    },
    {
     "name": "stdout",
     "output_type": "stream",
     "text": [
      "Moviepy - Done !\n",
      "Moviepy - video ready truncated_videos\\truncated_video_clip_4.mp4\n",
      "Moviepy - Building video truncated_videos\\truncated_video_clip_5.mp4.\n",
      "MoviePy - Writing audio in truncated_video_clip_5TEMP_MPY_wvf_snd.mp4\n"
     ]
    },
    {
     "name": "stderr",
     "output_type": "stream",
     "text": [
      "                                                        \r"
     ]
    },
    {
     "name": "stdout",
     "output_type": "stream",
     "text": [
      "MoviePy - Done.\n",
      "Moviepy - Writing video truncated_videos\\truncated_video_clip_5.mp4\n",
      "\n"
     ]
    },
    {
     "name": "stderr",
     "output_type": "stream",
     "text": [
      "                                                               \r"
     ]
    },
    {
     "name": "stdout",
     "output_type": "stream",
     "text": [
      "Moviepy - Done !\n",
      "Moviepy - video ready truncated_videos\\truncated_video_clip_5.mp4\n"
     ]
    }
   ],
   "source": [
    "sync_audio_video()\n"
=======
   "execution_count": null,
   "metadata": {},
   "outputs": [],
   "source": [
    "# extend truncate video to match with sound\n",
    "from moviepy.editor import VideoFileClip, AudioFileClip\n",
    "from moviepy.video.fx.all import speedx\n",
    "import os\n",
    "\n",
    "# Define directories\n",
    "video_dir = 'video_clips'\n",
    "audio_dir = 'subAudio'\n",
    "output_dir = 'truncated_videos'\n",
    "\n",
    "# Create output directory if it doesn't exist\n",
    "os.makedirs(output_dir, exist_ok=True)\n",
    "\n",
    "# Get sorted list of video and audio files\n",
    "video_files = sorted([f for f in os.listdir(video_dir) if f.endswith('.mp4')])\n",
    "audio_files = sorted([f for f in os.listdir(audio_dir) if f.endswith('.mp3')])\n",
    "\n",
    "for video_file, audio_file in zip(video_files, audio_files):\n",
    "    video_path = os.path.join(video_dir, video_file)\n",
    "    audio_path = os.path.join(audio_dir, audio_file)\n",
    "\n",
    "\n",
    "    video_clip = VideoFileClip(video_path)\n",
    "    audio_clip = AudioFileClip(audio_path)\n",
    "    \n",
    "\n",
    "    video_duration = video_clip.duration\n",
    "    audio_duration = audio_clip.duration\n",
    "    \n",
    "    # Calculate speed factor\n",
    "    speed_factor = video_duration / audio_duration\n",
    "\n",
    "    if video_duration > audio_duration:\n",
    "        adjusted_video = speedx(video_clip, factor=speed_factor)\n",
    "    else:\n",
    "        adjusted_video = speedx(video_clip, factor=speed_factor)\n",
    "    \n",
    "\n",
    "    final_clip = adjusted_video.set_audio(audio_clip)\n",
    "    \n",
    "    output_path = os.path.join(output_dir, f'truncated_{video_file}')\n",
    "    \n",
    "    final_clip.write_videofile(output_path, codec='libx264', audio_codec='aac')\n"
>>>>>>> e0455ff0e6a76ed1461dbd19fc0af81164c97e4f
   ]
  },
  {
   "cell_type": "code",
<<<<<<< HEAD
   "execution_count": 4,
   "metadata": {},
   "outputs": [
    {
     "name": "stdout",
     "output_type": "stream",
     "text": [
      "Moviepy - Building video output_clips\\combined_truncated_video_clip_1.mp4.\n",
      "MoviePy - Writing audio in combined_truncated_video_clip_1TEMP_MPY_wvf_snd.mp3\n"
     ]
    },
    {
     "name": "stderr",
     "output_type": "stream",
     "text": [
      "                                                        \r"
     ]
    },
    {
     "name": "stdout",
     "output_type": "stream",
     "text": [
      "MoviePy - Done.\n",
      "Moviepy - Writing video output_clips\\combined_truncated_video_clip_1.mp4\n",
      "\n"
     ]
    },
    {
     "name": "stderr",
     "output_type": "stream",
     "text": [
      "                                                               \r"
     ]
    },
    {
     "name": "stdout",
     "output_type": "stream",
     "text": [
      "Moviepy - Done !\n",
      "Moviepy - video ready output_clips\\combined_truncated_video_clip_1.mp4\n",
      "Combined subtitle_block_1.mp3 with truncated_video_clip_1.mp4 into output_clips\\combined_truncated_video_clip_1.mp4\n",
      "Moviepy - Building video output_clips\\combined_truncated_video_clip_2.mp4.\n",
      "MoviePy - Writing audio in combined_truncated_video_clip_2TEMP_MPY_wvf_snd.mp3\n"
     ]
    },
    {
     "name": "stderr",
     "output_type": "stream",
     "text": [
      "                                                        \r"
     ]
    },
    {
     "name": "stdout",
     "output_type": "stream",
     "text": [
      "MoviePy - Done.\n",
      "Moviepy - Writing video output_clips\\combined_truncated_video_clip_2.mp4\n",
      "\n"
     ]
    },
    {
     "name": "stderr",
     "output_type": "stream",
     "text": [
      "                                                               \r"
     ]
    },
    {
     "name": "stdout",
     "output_type": "stream",
     "text": [
      "Moviepy - Done !\n",
      "Moviepy - video ready output_clips\\combined_truncated_video_clip_2.mp4\n",
      "Combined subtitle_block_2.mp3 with truncated_video_clip_2.mp4 into output_clips\\combined_truncated_video_clip_2.mp4\n",
      "Moviepy - Building video output_clips\\combined_truncated_video_clip_3.mp4.\n",
      "MoviePy - Writing audio in combined_truncated_video_clip_3TEMP_MPY_wvf_snd.mp3\n"
     ]
    },
    {
     "name": "stderr",
     "output_type": "stream",
     "text": [
      "                                                        \r"
     ]
    },
    {
     "name": "stdout",
     "output_type": "stream",
     "text": [
      "MoviePy - Done.\n",
      "Moviepy - Writing video output_clips\\combined_truncated_video_clip_3.mp4\n",
      "\n"
     ]
    },
    {
     "name": "stderr",
     "output_type": "stream",
     "text": [
      "                                                               \r"
     ]
    },
    {
     "name": "stdout",
     "output_type": "stream",
     "text": [
      "Moviepy - Done !\n",
      "Moviepy - video ready output_clips\\combined_truncated_video_clip_3.mp4\n",
      "Combined subtitle_block_3.mp3 with truncated_video_clip_3.mp4 into output_clips\\combined_truncated_video_clip_3.mp4\n",
      "Moviepy - Building video output_clips\\combined_truncated_video_clip_4.mp4.\n",
      "MoviePy - Writing audio in combined_truncated_video_clip_4TEMP_MPY_wvf_snd.mp3\n"
     ]
    },
    {
     "name": "stderr",
     "output_type": "stream",
     "text": [
      "                                                        \r"
     ]
    },
    {
     "name": "stdout",
     "output_type": "stream",
     "text": [
      "MoviePy - Done.\n",
      "Moviepy - Writing video output_clips\\combined_truncated_video_clip_4.mp4\n",
      "\n"
     ]
    },
    {
     "name": "stderr",
     "output_type": "stream",
     "text": [
      "                                                               \r"
     ]
    },
    {
     "name": "stdout",
     "output_type": "stream",
     "text": [
      "Moviepy - Done !\n",
      "Moviepy - video ready output_clips\\combined_truncated_video_clip_4.mp4\n",
      "Combined subtitle_block_4.mp3 with truncated_video_clip_4.mp4 into output_clips\\combined_truncated_video_clip_4.mp4\n",
      "Moviepy - Building video output_clips\\combined_truncated_video_clip_5.mp4.\n",
      "MoviePy - Writing audio in combined_truncated_video_clip_5TEMP_MPY_wvf_snd.mp3\n"
     ]
    },
    {
     "name": "stderr",
     "output_type": "stream",
     "text": [
      "                                                        \r"
     ]
    },
    {
     "name": "stdout",
     "output_type": "stream",
     "text": [
      "MoviePy - Done.\n",
      "Moviepy - Writing video output_clips\\combined_truncated_video_clip_5.mp4\n",
      "\n"
     ]
    },
    {
     "name": "stderr",
     "output_type": "stream",
     "text": [
      "                                                               \r"
     ]
    },
    {
     "name": "stdout",
     "output_type": "stream",
     "text": [
      "Moviepy - Done !\n",
      "Moviepy - video ready output_clips\\combined_truncated_video_clip_5.mp4\n",
      "Combined subtitle_block_5.mp3 with truncated_video_clip_5.mp4 into output_clips\\combined_truncated_video_clip_5.mp4\n"
     ]
    }
   ],
   "source": [
    "combine_audio_video()\n"
=======
   "execution_count": null,
   "metadata": {},
   "outputs": [],
   "source": [
    "#combine audios and video clips\n",
    "from moviepy.editor import VideoFileClip, AudioFileClip\n",
    "import os\n",
    "\n",
    "# Paths to the folders\n",
    "audio_folder = 'subaudio'\n",
    "video_folder = 'truncated_videos'\n",
    "output_folder = 'output_clips'\n",
    "\n",
    "if not os.path.exists(output_folder):\n",
    "    os.makedirs(output_folder)\n",
    "\n",
    "audio_files = sorted([f for f in os.listdir(audio_folder) if f.endswith('.mp3')])\n",
    "video_files = sorted([f for f in os.listdir(video_folder) if f.endswith('.mp4')])\n",
    "\n",
    "if len(audio_files) != len(video_files):\n",
    "    raise ValueError(\"The number of audio files and video files do not match!\")\n",
    "\n",
    "for audio_file, video_file in zip(audio_files, video_files):\n",
    "    audio_path = os.path.join(audio_folder, audio_file)\n",
    "    video_path = os.path.join(video_folder, video_file)\n",
    "    output_path = os.path.join(output_folder, f'combined_{video_file}')\n",
    "\n",
    "    audio_clip = AudioFileClip(audio_path)\n",
    "    video_clip = VideoFileClip(video_path)\n",
    "\n",
    "    video_with_audio = video_clip.set_audio(audio_clip)\n",
    "\n",
    "    video_with_audio.write_videofile(output_path, codec='libx264')\n",
    "\n",
    "    print(f'Combined {audio_file} with {video_file} into {output_path}')\n"
>>>>>>> e0455ff0e6a76ed1461dbd19fc0af81164c97e4f
   ]
  },
  {
   "cell_type": "code",
<<<<<<< HEAD
   "execution_count": 5,
=======
   "execution_count": 11,
>>>>>>> e0455ff0e6a76ed1461dbd19fc0af81164c97e4f
   "metadata": {},
   "outputs": [
    {
     "name": "stdout",
     "output_type": "stream",
     "text": [
      "Moviepy - Building video output_combined.mp4.\n",
      "MoviePy - Writing audio in output_combinedTEMP_MPY_wvf_snd.mp3\n"
     ]
    },
    {
     "name": "stderr",
     "output_type": "stream",
     "text": [
<<<<<<< HEAD
      "                                                                    \r"
=======
      "                                                                      \r"
>>>>>>> e0455ff0e6a76ed1461dbd19fc0af81164c97e4f
     ]
    },
    {
     "name": "stdout",
     "output_type": "stream",
     "text": [
      "MoviePy - Done.\n",
      "Moviepy - Writing video output_combined.mp4\n",
      "\n"
     ]
    },
    {
     "name": "stderr",
     "output_type": "stream",
     "text": [
<<<<<<< HEAD
      "                                                              \r"
=======
      "                                                                \r"
>>>>>>> e0455ff0e6a76ed1461dbd19fc0af81164c97e4f
     ]
    },
    {
     "name": "stdout",
     "output_type": "stream",
     "text": [
      "Moviepy - Done !\n",
      "Moviepy - video ready output_combined.mp4\n"
     ]
    }
   ],
   "source": [
<<<<<<< HEAD
    "merge_all_clips()"
   ]
=======
    "#merge all file together\n",
    "from moviepy.editor import VideoFileClip, concatenate_videoclips\n",
    "import os\n",
    "import re\n",
    "\n",
    "def extract_number(filename):\n",
    "\n",
    "    match = re.search(r'(\\d+)', filename)\n",
    "    return int(match.group(0)) if match else 0\n",
    "\n",
    "folder_path = 'output_clips'\n",
    "\n",
    "file_list = [f for f in os.listdir(folder_path) if f.endswith('.mp4')]\n",
    "file_list.sort(key=extract_number)\n",
    "\n",
    "clips = [VideoFileClip(os.path.join(folder_path, filename)) for filename in file_list]\n",
    "\n",
    "# Combine clips\n",
    "final_clip = concatenate_videoclips(clips, method=\"compose\")\n",
    "\n",
    "# Write the final output\n",
    "final_clip.write_videofile('output_combined.mp4', codec='libx264')\n"
   ]
  },
  {
   "cell_type": "code",
   "execution_count": null,
   "metadata": {},
   "outputs": [],
   "source": []
>>>>>>> e0455ff0e6a76ed1461dbd19fc0af81164c97e4f
  }
 ],
 "metadata": {
  "kernelspec": {
   "display_name": ".venv",
   "language": "python",
   "name": "python3"
  },
  "language_info": {
   "codemirror_mode": {
    "name": "ipython",
    "version": 3
   },
   "file_extension": ".py",
   "mimetype": "text/x-python",
   "name": "python",
   "nbconvert_exporter": "python",
   "pygments_lexer": "ipython3",
   "version": "3.11.9"
  }
 },
 "nbformat": 4,
 "nbformat_minor": 2
}
